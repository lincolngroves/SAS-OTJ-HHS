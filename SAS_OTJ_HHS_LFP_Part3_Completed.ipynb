{
 "cells": [
  {
   "cell_type": "markdown",
   "metadata": {},
   "source": [
    "# SAS On-the-Job | Part 3\n",
    "## Role: Data Analyst within the Department of Health and Human Services"
   ]
  },
  {
   "cell_type": "markdown",
   "metadata": {},
   "source": [
    "### The Final Chapter! Map Time!\n",
    "R you ready for the R portion of our analysis? And do you love a bad pun? Then you're in just the right place!\n",
    "\n",
    "In Part 3 of our HHS adventures, we return to our state-level data on labor supply by prime-aged women aged 25-54. Our analytical objective in this section is to use the cool geographic mapping procedures in R to examine changes in the unemployment rate and the labor force participation rate from 2015 to 2022. As is the consistent theme, the general goal here is to see whether pre-COVID trends are back.  Because if they're not, HHS leadership could advocate for policies to support segments of women in the labor force, for example, women with small children.\n",
    "\n",
    "Let's finish our analysis strong!\n",
    "\n",
    "#### Prepare the R Environment\n",
    "The first step is to load the requisite libraries in R. Note that a library is a different thing in R than SAS. In R, it's a package of tools, rather than a pointer to a data location. That's a fun fact for your next trivia night!"
   ]
  },
  {
   "cell_type": "code",
   "execution_count": null,
   "metadata": {},
   "outputs": [],
   "source": [
    "# Load required libraries\n",
    "library(ggplot2)\n",
    "library(reshape2)\n",
    "library(grid)\n",
    "library(scales)\n",
    "library(mapproj)\n",
    "library(viridis)\n",
    "library(maps)\n",
    "library(haven)"
   ]
  },
  {
   "cell_type": "markdown",
   "metadata": {},
   "source": [
    "#### Access Map Data in R\n",
    "Next, we'll want to leverage data that's already included as part of the R install. We can then link this data to our data set - and ensure that data gets assigned properly in our upcoming maps."
   ]
  },
  {
   "cell_type": "code",
   "execution_count": null,
   "metadata": {},
   "outputs": [],
   "source": [
    "# R comes with some pre-installed map data. Let's leverage that in this analysis\n",
    "\n",
    "# Load the U.S. state map data\n",
    "map_data <- map_data(\"state\")\n",
    "\n",
    "# Ensure Proper Casing for Merge\n",
    "map_data$region = toupper(map_data$region)"
   ]
  },
  {
   "cell_type": "markdown",
   "metadata": {},
   "source": [
    "It's never a bad thing to explore your data.  So, let's check out the first 10 observations in *map_data* to ensure that it's in a form we recognize."
   ]
  },
  {
   "cell_type": "code",
   "execution_count": null,
   "metadata": {},
   "outputs": [],
   "source": [
    "head(map_data,10)"
   ]
  },
  {
   "cell_type": "markdown",
   "metadata": {},
   "source": [
    "And that's just a big ole data set, which is why we limited it.\n",
    "\n",
    "Now let's prepare *covid_labor_supply2* for a merge.  Note that we need to match case on the *State_Name*, which is why we've got that extra line of code."
   ]
  },
  {
   "cell_type": "code",
   "execution_count": null,
   "metadata": {},
   "outputs": [],
   "source": [
    "# Prepare the data from Part 2 for a merge\n",
    "data1 <- read_sas('covid_labor_supply2.sas7bdat')\n",
    "\n",
    "# Adjust Casing for Merge\n",
    "data1$State_Name = toupper(data1$State_Name)"
   ]
  },
  {
   "cell_type": "markdown",
   "metadata": {},
   "source": [
    "Let's explore the data one more time - to ensure that we've got the right one:"
   ]
  },
  {
   "cell_type": "code",
   "execution_count": null,
   "metadata": {
    "tags": []
   },
   "outputs": [],
   "source": [
    "data1"
   ]
  },
  {
   "cell_type": "markdown",
   "metadata": {},
   "source": [
    "#### Merge Time, Merge Time!\n",
    "Are you ready to pull together the two pieces? Well, I used an exclamation point, so you know that I’m excited. Use the following code to combine *map_data* from R with our aggregated ACS data set.  Data populated all the way across the row tells us that the merge was done properly - so check for that:"
   ]
  },
  {
   "cell_type": "code",
   "execution_count": null,
   "metadata": {},
   "outputs": [],
   "source": [
    "# Merge the data with map data\n",
    "state_map_data <- merge(map_data, data1, by.x = \"region\", by.y = \"State_Name\", all.x = TRUE)\n",
    "\n",
    "# Let's check out the first 20 observations of the merged data!\n",
    "head(state_map_data,20)"
   ]
  },
  {
   "cell_type": "markdown",
   "metadata": {},
   "source": [
    "Data look good to me. How are things on your end? Do you see data all the way across the row?"
   ]
  },
  {
   "cell_type": "markdown",
   "metadata": {},
   "source": [
    "#### One More Housekeeping Item\n",
    "The last analysis preparation item is to think a bit more about how the map of the U.S. will appear. And while the exact details of *theme_map* can be handled on another day, let's steal some code to create a pretty theme map for our upcoming plots."
   ]
  },
  {
   "cell_type": "code",
   "execution_count": null,
   "metadata": {},
   "outputs": [],
   "source": [
    "# Check this out (but don't ask me what each piece means)\n",
    "# Source Code: https://socviz.co/index.html#preface ==> this book is great! \n",
    "theme_map <- function(base_size=20, base_family=\"\") {\n",
    "  require(grid)\n",
    "  theme_bw(base_size=base_size, base_family=base_family) %+replace%\n",
    "    theme(axis.line=element_blank(),\n",
    "          axis.text=element_blank(),\n",
    "          axis.ticks=element_blank(),\n",
    "          axis.title=element_blank(),\n",
    "          panel.background=element_blank(),\n",
    "          panel.border=element_blank(),\n",
    "          panel.grid=element_blank(),\n",
    "          panel.spacing=unit(0, \"lines\"),\n",
    "          plot.background=element_blank(),\n",
    "          legend.justification = c(0,0),\n",
    "          legend.position = c(0,0),\n",
    "          legend.key.width = unit(20,\"lines\")\n",
    "    )\n",
    "}\n",
    "\n",
    "options(repr.plot.width = 24, repr.plot.height = 16)"
   ]
  },
  {
   "cell_type": "markdown",
   "metadata": {},
   "source": [
    "Data are now loaded into R - and the theme map is ready to go. Let's get our mapping on!"
   ]
  },
  {
   "cell_type": "markdown",
   "metadata": {},
   "source": [
    "#### Unemployment Rate Analysis\n",
    "Let's now explore the unemployment rate across time in the U.S. We'll just focus on the continental U.S. (to simplify) but let's examine the trends for all prime-aged women:"
   ]
  },
  {
   "cell_type": "code",
   "execution_count": null,
   "metadata": {},
   "outputs": [],
   "source": [
    "p0 <- ggplot(data = subset(state_map_data),\n",
    "             mapping = aes(x = long, y = lat,\n",
    "                           group = group,\n",
    "                           fill = UE_Women))\n",
    "\n",
    "p1 <- p0 + geom_polygon(color = \"gray90\", linewidth = 0.10) +\n",
    "  coord_map(projection = \"albers\", lat0 = 39, lat1 = 45) \n",
    "\n",
    "p2 <- p1 + scale_fill_viridis_c(option = \"plasma\", label=function(x) sprintf(\"%.2f\",x))\n",
    "\n",
    "p2 + theme_map() + facet_wrap(~ Year, ncol = 3) +\n",
    "  theme(legend.position = \"bottom\", strip.background = element_blank()) +\n",
    "  labs(fill = \"Unemployment Rate \",\n",
    "       title = \"Annual Unemployment Rate | 2015 to 2022 | All Women\") "
   ]
  },
  {
   "cell_type": "markdown",
   "metadata": {},
   "source": [
    "What do you see in these trends? Again, I see that trends have returned to the pre-pandemic levels.  And, dare I say it, it looks like employment prospects is better in 2022 than it was in the earlier period."
   ]
  },
  {
   "cell_type": "markdown",
   "metadata": {},
   "source": [
    "Because it's easy, let's just modify the code above and change UE_Women to UE_Women_YoungKids. The code:"
   ]
  },
  {
   "cell_type": "code",
   "execution_count": null,
   "metadata": {},
   "outputs": [],
   "source": [
    "p0 <- ggplot(data = subset(state_map_data),\n",
    "             mapping = aes(x = long, y = lat,\n",
    "                           group = group,\n",
    "                           fill = UE_Women_YoungKids))\n",
    "\n",
    "p1 <- p0 + geom_polygon(color = \"gray90\", linewidth = 0.10) +\n",
    "  coord_map(projection = \"albers\", lat0 = 39, lat1 = 45) \n",
    "\n",
    "p2 <- p1 + scale_fill_viridis_c(option = \"plasma\", label=function(x) sprintf(\"%.2f\",x))\n",
    "\n",
    "p2 + theme_map() + facet_wrap(~ Year, ncol = 3) +\n",
    "  theme(legend.position = \"bottom\",\n",
    "        strip.background = element_blank()) +\n",
    "  labs(fill = \"Unemployment Rate \",\n",
    "       title = \"Unemployment Rate | 2015 to 2022 | Women with Young Kids (Age<5)\") "
   ]
  },
  {
   "cell_type": "markdown",
   "metadata": {},
   "source": [
    "Again, a similar story plays out. Unemployment rates have returned to their pre-pandemic norms... and might be even better than they were in the early period."
   ]
  },
  {
   "cell_type": "markdown",
   "metadata": {},
   "source": [
    "#### Labor Force Participation Rate Analysis\n",
    "Because this code is so easy to modify after it's written, let's examine the labor force participant rate for all women. The story shouldn't change, but it is interesting to see the variation over time within states."
   ]
  },
  {
   "cell_type": "code",
   "execution_count": null,
   "metadata": {
    "tags": []
   },
   "outputs": [],
   "source": [
    "# Labor Force Participation Rate\n",
    "r0 <- ggplot(data = subset(state_map_data),\n",
    "             mapping = aes(x = long, y = lat,\n",
    "                           group = group,\n",
    "                           fill = LFP_Women) )\n",
    "       \n",
    "r1 <- r0 + geom_polygon(color = \"gray90\", linewidth = 0.10) +\n",
    "  coord_map(projection = \"albers\", lat0 = 39, lat1 = 45) \n",
    "\n",
    "r2 <- r1 + scale_fill_viridis_c(option = \"plasma\", label=function(x) sprintf(\"%.2f\",x))\n",
    "\n",
    "r2 + theme_map() + facet_wrap(~ Year, ncol = 3) +\n",
    "  theme(legend.position = \"bottom\",\n",
    "        strip.background = element_blank()) +\n",
    "  labs(fill = \"Labor Force Participation Rate \",\n",
    "       title = \"Labor Force Participation Rate | 2015 to 2022 | All Women\") "
   ]
  },
  {
   "cell_type": "markdown",
   "metadata": {
    "tags": []
   },
   "source": [
    "The story repeats. Things were good. Then they got really bad. And they're either the same as the pre-pandemic levels - or better now.\n",
    "\n",
    "My recommendation is HHS leadership to take no action on designing supports specifically targeting women affected by the pandemic. Whether segments of women - that is, those with young children - should receive other supports to encourage their labor supply is a great research question for another time.  For now, congrats on completing your first day as a Department of Health and Human Services Policy Analyst!"
   ]
  }
 ],
 "metadata": {
  "kernelspec": {
   "display_name": "R",
   "language": "R",
   "name": "ir"
  },
  "language_info": {
   "codemirror_mode": "r",
   "file_extension": ".r",
   "mimetype": "text/x-r-source",
   "name": "R",
   "pygments_lexer": "r",
   "version": "4.2.3"
  }
 },
 "nbformat": 4,
 "nbformat_minor": 4
}
