{
 "cells": [
  {
   "cell_type": "markdown",
   "metadata": {
    "tags": []
   },
   "source": [
    "# SAS On-the-Job | Part 2\n",
    "## Role: Data Analyst within the Department of Health and Human Services"
   ]
  },
  {
   "cell_type": "markdown",
   "metadata": {},
   "source": [
    "#### The Story Continues\n",
    "In Part 1, we did a nice job of better understanding the objective at hand - and our data.  We used a variety of tools - including Python, SQL, and SAS - to perform an exploratory data analysis and now can explore data at both the state and aggregated U.S. analysis .  The (data) world is our oyster... yay!<br>\n",
    "\n",
    "In this section, we'll take a deeper dive into the trends in unemployment and labor force participation for prime-aged women aged 25-54 in the United States.  In particular, this section has three objectives.  <br>\n",
    "\n",
    "•\tPlot aggregated U.S. trends over time | by demographic groups | by quarter. <br>\n",
    "•\tExamine state-level unemployment rates and labor force participation rates | by year. <br>\n",
    "•\tCreate data sets to be used in Part 3 of our analysis. <br>"
   ]
  },
  {
   "cell_type": "markdown",
   "metadata": {},
   "source": [
    "## Time Series Plots using SAS GPLOT and SAS Macros"
   ]
  },
  {
   "cell_type": "markdown",
   "metadata": {},
   "source": [
    "### Task 1: Examine U.S. Trends over Time"
   ]
  },
  {
   "cell_type": "markdown",
   "metadata": {},
   "source": [
    "Let's get right to it.  With our first task, let’s use GPLOT to explore trends in unemployment rates and labor force participation rates  in the U.S. In particular, let's look at the trends by *Race and Ethnicity*, *Education Level*, and *Child Status*.  Oh, and you'll gain exposure to SAS Macros, so that you can see how macros greatly simplify the amount of repetitive code that needs to be written."
   ]
  },
  {
   "cell_type": "markdown",
   "metadata": {},
   "source": [
    "#### Assign the library to pull the data"
   ]
  },
  {
   "cell_type": "markdown",
   "metadata": {},
   "source": [
    "We'll again read and write data to our SAS Viya environment. So, let's assign a link to that location on our drive."
   ]
  },
  {
   "cell_type": "code",
   "execution_count": null,
   "metadata": {},
   "outputs": [],
   "source": [
    "libname acs \"/home/student/S23HSRP\";"
   ]
  },
  {
   "cell_type": "markdown",
   "metadata": {},
   "source": [
    "#### Setup SAS Code for Pretty Graphs\n",
    "One advantage to coding is that you can specify the exact options that you'd like to see in your graphs. One downside to coding is that you need to specify the exact options in your graph... otherwise you'll be stuck with some potentially less than ideal defaults. So, let's adjust the graph setting to something that will work for us."
   ]
  },
  {
   "cell_type": "code",
   "execution_count": null,
   "metadata": {},
   "outputs": [],
   "source": [
    "*-------------------------------------------------------------------------------------*\n",
    "| \t   \t\t\t\t\t\t  Examine Current Trends \t\t\t\t\t\t\t\t  | \n",
    "|\t\t\t\t\t\t  Part I: Adjust Graph Settings\t\t\t\t\t\t\t\t  |\n",
    "*-------------------------------------------------------------------------------------*;\n",
    "\n",
    "**********************************************  Assign colors and symbols to plot lines;\n",
    "symbol1 interpol=join line=1 \tcolor=bl \t;\n",
    "symbol2 interpol=join line=2\tcolor=b \t;\n",
    "symbol3 interpol=join line=3\tcolor=br \t;\n",
    "symbol4 interpol=join line=4\tcolor=g \t;\n",
    "symbol5 interpol=join line=5\tcolor=p \t;\n",
    "\n",
    "**********************************************  Format Axis;\n",
    "legend1 position=(top center inside)label=none mode=share frame;"
   ]
  },
  {
   "cell_type": "markdown",
   "metadata": {},
   "source": [
    "#### U.S. Plots for Unemployment and Labor Force Participation | By Race/Ethnicity, Education Level, and Child Status | Quarterly\n",
    "Ready or not - it's SAS Macro loop time! We'll use the PROC GPLOT data below to produce six charts of labor supply trends, over time."
   ]
  },
  {
   "cell_type": "code",
   "execution_count": null,
   "metadata": {
    "tags": []
   },
   "outputs": [],
   "source": [
    "*-------------------------------------------------------------------------------------*\n",
    "|\t\t\t \t\t\t\tPart II: Macro Loops\t\t\t\t\t\t\t\t\t  |\n",
    "*-------------------------------------------------------------------------------------*;\n",
    "\n",
    "************************************  Define Variable List to Simplify Coding ;\n",
    "%macro hilfe(from,to,by,var1,varlist2,title);\n",
    "\n",
    "\t***********************************************  Format axis for current range ;\n",
    "\taxis2 \torder=(&from to &to by &by ) offset=(0,0) label=none minor=(n=1);\n",
    "\n",
    "\n",
    "\t**********************************************  Overlay Plot ;\n",
    "\ttitle3 h=1.75pct &title;\n",
    "\tproc gplot data=acs.covid_labor_supply_us;\n",
    "\t   plot ( &var1 \t)\t* YearQuarter \n",
    "\t   \t\t( &varlist2 ) \t* YearQuarter \n",
    "\t\t\t /\toverlay\n",
    "\t\t\t\tlegend=legend1\n",
    "\t\t        vaxis=axis2\n",
    "\t\t        vref=&from to &to by .05\n",
    "\t\t        lvref=2;\n",
    "\trun;\n",
    "\tquit;\n",
    "\n",
    "%mend;\n",
    "\n",
    "\n",
    "**************************************************  Unemployment ;\n",
    "%hilfe(0,.20,.02,UE_Women,UE_BlackWomen UE_HispanicWomen UE_WhiteWomen UE_OtherWomen,\t\t\t\"Unemployment Analysis | By Race and Ethnicity\");\n",
    "%hilfe(0,.20,.02,UE_Women,UE_Women_LTHS UE_Women_HS UE_Women_SCollege UE_Women_CollegeP,\t\t\"Unemployment Analysis | By Education Level\");\n",
    "%hilfe(0,.20,.02,UE_Women,UE_Women_NoKids UE_Women_OlderKids UE_Women_YoungKids,\t\t\t\t\"Unemployment Analysis | By Child Status\");\n",
    "\n",
    "\n",
    "**************************************************  Labor Force Participation ;\n",
    "%hilfe(0.6,1,.05,LFP_Women,LFP_BlackWomen LFP_HispanicWomen LFP_WhiteWomen LFP_OtherWomen,\t\t\"Labor Force Participation Analysis | By Race and Ethnicity\");\n",
    "%hilfe(0.6,1,.05,LFP_Women,LFP_Women_LTHS LFP_Women_HS LFP_Women_SCollege LFP_Women_CollegeP,\t\"Labor Force Participation Analysis | By Education Level\");\n",
    "%hilfe(0.6,1,.05,LFP_Women,LFP_Women_NoKids LFP_Women_OlderKids LFP_Women_YoungKids,\t\t\t\"Labor Force Participation Analysis | By Child Status\");\n"
   ]
  },
  {
   "cell_type": "markdown",
   "metadata": {},
   "source": [
    "Notice the effect of COVID on these variables?  Unemployment rates were greatly affected by the COVID19 pandemic - particularly in the period starting in Q2 of 2020. Women of all demographic groups were affected by the COVID19 lockdowns, but higher-education women didn't experience the same spike in unemployment (likely because they could still do their job remotely).  Interestingly, there really wasn't much variation in UE rates by child status - and the UE levels have returned - essentially - to the same level they were pre-COVID.\n",
    "\n",
    "Let's pause on that last point a bit. UE being relatively unaffected by child status during the pandemic - and now being essentially at the same level as before the pandemic - would mean that HHS leadership shouldn't have to push for additional supports for working mothers. At least in terms of the unemployment rate.\n",
    "\n",
    "But, labor force participation rate is another (and perhaps better) measure of labor supply. LFP essentially measures individuals’ desire to be part of the labor force, whether they have a job or not. In the last chart, we see that women without children have the highest LFP rates.  And women with young children (that is, those less than 5 years old) have the lowest levels of LFP. That all makes sense. The interesting part is at the end - starting in roughly Q1 of 2022. To me, it appears that LFP rates have rebounded to where they were before the pandemic... and might be slightly higher.\n",
    "\n",
    "Again, for this policy analyst, I see no need for targeted policies, given that rates are either at or above where they were before the pandemic.  But, you're the new analyst - what other interesting trends do you notice?"
   ]
  },
  {
   "cell_type": "markdown",
   "metadata": {},
   "source": [
    "#### Produce Summary Tables of Underlying Data\n",
    "To round out this section, let's ensure that the data are what we expect them to be. We can do this with a simple PROC PRINT statement in SAS. And this can also be thought of as the \"show your work\" portion of the programming."
   ]
  },
  {
   "cell_type": "code",
   "execution_count": null,
   "metadata": {
    "tags": []
   },
   "outputs": [],
   "source": [
    "*-------------------------------------------------------------------------------------*\n",
    "|\t\t \t   \t\t\t\t\t\tBackup Tables\t\t\t\t\t\t\t  \t\t  | \n",
    "*-------------------------------------------------------------------------------------*;\n",
    "\n",
    "%macro backup(var,title);\n",
    "\ttitle3 h=1.75pct &title;\n",
    "\tproc print data=acs.covid_labor_supply_us noobs label;\n",
    "\t\tvar YearQuarter ue_: ;\n",
    "\trun;\n",
    "%mend;\n",
    "\n",
    "%backup(ue_:,\"Backup Tables - Unemployment Rates\");\n",
    "%backup(lfp_:,\"Backup Tables - Labor Force Participation Rates\";);\n"
   ]
  },
  {
   "cell_type": "markdown",
   "metadata": {},
   "source": [
    "Data look legit to me! And, tables like this - though long - can be a great way to spot outliers.  Notice the cluster around the time of the pandemic?"
   ]
  },
  {
   "cell_type": "markdown",
   "metadata": {},
   "source": [
    "## Task 2 | Examine State-Level UE and LFP Estimates | Yearly\n",
    "The United States is a very large and diverse country. Economic conditions in Montana might not be the same as they are in North Carolina. And that's the beauty of Census Data - we can parse out those individual trends and examine them over time. Let's make a few data modifications and then produce some PROC SGPANEL plots."
   ]
  },
  {
   "cell_type": "markdown",
   "metadata": {},
   "source": [
    "#### First Step: Collapse to State-Year Data Using SQL\n",
    "We'll need to aggregate the data to the state + year level.  As shown in Part 1, this can be done very succinctly using the powerful SQL language. Let's see how we can collapse our data in a single PROC SQL step - all while producing weighted (and more accurate) estimates of UE and LFP."
   ]
  },
  {
   "cell_type": "code",
   "execution_count": null,
   "metadata": {
    "tags": []
   },
   "outputs": [],
   "source": [
    "*-------------------------------------------------------------------------------------*\n",
    "|    \t   \t\t\t\t\t\t  Collapse Data \t\t\t\t\t\t\t\t\t  | \n",
    "|\t                    \tProduce State-Level Estimates          \t          \t\t  |\n",
    "*-------------------------------------------------------------------------------------*;\n",
    "\n",
    "********************************************************  By State ;\n",
    "proc sql;\n",
    "\tcreate \ttable acs.covid_labor_supply2 as \n",
    "\tselect\tdistinct state_fip, state_name, \n",
    "            year(yearquarter) as Year format 9.,\n",
    "\t\t\t\n",
    "/*******************************************************************  Labor Force Status | All  */\n",
    "\t\t\tsum( ( unemp=1 ) * WTFINL ) \t\t\t\t\t\t\t\t\t\t\t/ sum( ( in_LF=1 ) *   \tWTFINL )\t\t\t\t\t\t\t\t\tas UE_Women\t\t\t\tlabel=\"Unemployment Rate\"\tformat percent9.1 \t\t,\n",
    "\t\t\tsum( ( in_LF=1 ) * WTFINL ) \t\t\t\t\t\t\t\t\t\t\t/ sum(  \t\t\t\tWTFINL )\t\t\t\t\t\t\t\t\tas LFP_Women\t\t\tlabel=\"LFP Rate\"\t\t\tformat percent9.1 \t\t,\n",
    "\n",
    "\n",
    "/*******************************************************************  Labor Force Status | By Education  */\n",
    "\n",
    "\t\t\t/*******************************************************  Unemployment */\n",
    "\t\t\tsum( ( educ_ltd=\"High School Diploma\" ) * ( unemp=1 ) * WTFINL ) \t\t/ sum( ( educ_ltd=\"High School Diploma\" ) * ( in_LF=1 ) * WTFINL )\tas UE_Women_HS\t\t\tlabel=\"EDUC <= HS\" \t\tformat percent9.1 \t\t,\n",
    "\t\t\tsum( ( educ_ltd=\"Some College\" ) * ( unemp=1 ) * WTFINL ) \t\t\t\t/ sum( ( educ_ltd=\"Some College\" ) * ( in_LF=1 ) * WTFINL ) \t\tas UE_Women_SCollege\tlabel=\"Some College\"\tformat percent9.1 \t\t,\n",
    "\t\t\tsum( ( educ_ltd=\"College +\" ) * ( unemp=1 ) * WTFINL ) \t\t\t\t\t/ sum( ( educ_ltd=\"College +\" ) * ( in_LF=1 ) * WTFINL ) \t\t\tas UE_Women_CollegeP\tlabel=\"College +\" \t\tformat percent9.1 \t\t,\n",
    "\n",
    "\t\t\t/*******************************************************  LFP */\n",
    "\t\t\tsum( ( educ_ltd=\"High School Diploma\" ) * ( in_LF=1 ) * WTFINL ) \t\t/ sum( ( educ_ltd=\"High School Diploma\" ) * WTFINL ) \t\t\t\tas LFP_Women_HS\t\t\tlabel=\"EDUC <= HS\" \t\tformat percent9.1 \t\t,\n",
    "\t\t\tsum( ( educ_ltd=\"Some College\" ) * ( in_LF=1 ) * WTFINL ) \t\t\t\t/ sum( ( educ_ltd=\"Some College\" ) * WTFINL ) \t\t\t\t\t\tas LFP_Women_SCollege\tlabel=\"Some College\" \tformat percent9.1 \t\t,\n",
    "\t\t\tsum( ( educ_ltd=\"College +\" ) * ( in_LF=1 ) * WTFINL ) \t\t\t\t\t/ sum( ( educ_ltd=\"College +\" ) * WTFINL ) \t\t\t\t\t\t\tas LFP_Women_CollegeP\tlabel=\"College +\" \t\tformat percent9.1 \t\t,\n",
    "\n",
    "\n",
    "/*******************************************************************  Labor Force Status | By Child Status  */\n",
    "\n",
    "\t\t\t/*******************************************************  Unemployment */\n",
    "\t\t\tsum( ( child_status=\"No Children\" ) * ( unemp=1 ) * WTFINL ) \t\t\t/ sum( ( child_status=\"No Children\" ) * ( in_LF=1 ) * WTFINL ) \t\tas UE_Women_NoKids\t\tlabel=\"No Children\" \tformat percent9.1 \t\t,\n",
    "\t\t\tsum( ( child_status=\"Older Children\" ) * ( unemp=1 ) * WTFINL ) \t\t/ sum( ( child_status=\"Older Children\" ) * ( in_LF=1 ) * WTFINL ) \tas UE_Women_OlderKids\tlabel=\"Older Children\" \tformat percent9.1 \t\t,\n",
    "\t\t\tsum( ( child_status=\"Child < 5\" ) * ( unemp=1 ) * WTFINL ) \t\t\t\t/ sum( ( child_status=\"Child < 5\" ) * ( in_LF=1 ) * WTFINL ) \t\tas UE_Women_YoungKids\tlabel=\"Young Children\"\tformat percent9.1 \t\t,\n",
    "\n",
    "\t\t\t/*******************************************************  LFP */\n",
    "\t\t\tsum( ( child_status=\"No Children\" ) * ( in_LF=1 ) * WTFINL ) \t\t\t/ sum( ( child_status=\"No Children\" ) * WTFINL ) \t\t\t\t\tas LFP_Women_NoKids\t\tlabel=\"No Children\" \tformat percent9.1 \t\t,\n",
    "\t\t\tsum( ( child_status=\"Older Children\" ) * ( in_LF=1 ) * WTFINL ) \t\t/ sum( ( child_status=\"Older Children\" ) * WTFINL ) \t\t\t\tas LFP_Women_OlderKids\tlabel=\"Older Children\" \tformat percent9.1 \t\t,\n",
    "\t\t\tsum( ( child_status=\"Child < 5\" ) * ( in_LF=1 ) * WTFINL ) \t\t\t\t/ sum( ( child_status=\"Child < 5\" ) * WTFINL ) \t\t\t\t\t\tas LFP_Women_YoungKids\tlabel=\"Young Children\"\tformat percent9.1 \t\t\n",
    "\n",
    "\n",
    "\tfrom \tacs.acs_2015_2022\n",
    "\tgroup\tby 1,2,3 \n",
    "\torder\tby 1,2,3 ;\n",
    "quit;\n"
   ]
  },
  {
   "cell_type": "markdown",
   "metadata": {
    "tags": []
   },
   "source": [
    "I still think that SQL trick is cool.  Notice how we turn select variables into 1/0 variables and then pass them through our SQL collapsing equation. For example, the code ( child_status=\"No Children\" ) resolves to 1 if the child status is \"No Children\" and 0 otherwise.  So, we essentially have a bunch of 1s and 0s multiplied together on a line-by-line basis, with a weight, which we then aggregate up to a state-year level. Now that's cool!"
   ]
  },
  {
   "cell_type": "markdown",
   "metadata": {},
   "source": [
    "#### Transpose Data to Prepare for SGPANEL Plots\n",
    "The data aren't quite where they need to be for the SGPANEL plots. But we can do that easily with a little arranging/rearranging of the data."
   ]
  },
  {
   "cell_type": "code",
   "execution_count": null,
   "metadata": {
    "tags": []
   },
   "outputs": [],
   "source": [
    "proc transpose data=acs.covid_labor_supply2 out=tran1 (rename=(_label_=Group));\n",
    "\tby state_fip state_name year ;\n",
    "run;\n",
    "\n",
    "\n",
    "data \tue \t(keep=state_fip state_name year group ue_rate)\n",
    "\t\tlfp (keep=state_fip state_name year group lfp_rate);\n",
    "\tset tran1 ;\n",
    "\n",
    "\tlabel \tgroup=\"Group\" ;\n",
    "\n",
    "\tif \tindex(_name_,\"UE_\")=1 then do;\n",
    "\t\tUE_Rate \t\t= col1 ;\n",
    "\t\tlabel \tUE_Rate = \"Unemployment Rate\" ;\n",
    "\t\tformat \tUE_Rate percent9.1 ;\n",
    "\t\toutput\tue ;\n",
    "\tend;\n",
    "\n",
    "\telse if index(_name_,\"LFP_\")=1 then do;\n",
    "\t\tLFP_Rate \t\t= col1 ;\n",
    "\t\tlabel \tLFP_Rate= \"Labor Force Participation Rate\" ;\n",
    "\t\tformat \tLFP_Rate percent9.1 ;\n",
    "\t\toutput\tlfp ;\n",
    "\tend;\n",
    "run;"
   ]
  },
  {
   "cell_type": "markdown",
   "metadata": {},
   "source": [
    "Now the data are prepared - and the way we need them to be for the SGPANEL plots. Onward!"
   ]
  },
  {
   "cell_type": "markdown",
   "metadata": {},
   "source": [
    "#### Unemployment Rates\n",
    "Let's first examine the unemployment rates, by education level and then by child status. And you know the follow-up questions: (1) what looks interesting and (2) are there any noticeable trends by child status over time?"
   ]
  },
  {
   "cell_type": "code",
   "execution_count": null,
   "metadata": {
    "tags": []
   },
   "outputs": [],
   "source": [
    "*-----------------------------------------------------------------------------------------*\n",
    "|\t\t    \t   \t\t\t\tUnemployment Rate Analysis\t\t\t\t  \t\t\t\t  | \n",
    "*-----------------------------------------------------------------------------------------*;\n",
    "\n",
    "**********************************************  By Education Level;\n",
    "title3 h=1.75pct \"Unemployment Analysis | By Education Level\";\n",
    "proc sgpanel data=ue;\n",
    "\twhere group in (\"Unemployment Rate\" \"EDUC <= HS\" \"Some College\" \"College +\");\n",
    "\tpanelby state_name / columns=3 rows=2 novarname ROWHEADERPOS=right ;\n",
    "\tseries y=UE_Rate  x=Year \t\t/ group=group lineattrs=(thickness=2 pattern=solid);\n",
    "\tkeylegend / title=\"\" position=bottom;\n",
    "\tcolaxis fitpolicy=thin valuesformat=best5. ;\n",
    "run;\n",
    "quit;\n",
    "\n",
    "\n",
    "**********************************************   By Child Status;\n",
    "title3 h=1.75pct \"Unemployment Analysis | By Child Status\";\n",
    "proc sgpanel data=ue;\n",
    "\twhere group in (\"Unemployment Rate\" \"No Children\" \"Young Children\" \"Older Children\");\n",
    "\tpanelby state_name / columns=3 rows=2 novarname ROWHEADERPOS=right ;\n",
    "\tseries y=UE_Rate  x=Year \t\t/ group=group lineattrs=(thickness=2 pattern=solid);\n",
    "\tkeylegend / title=\"\" position=bottom;\n",
    "\tcolaxis fitpolicy=thin valuesformat=best5. ;\n",
    "run;\n",
    "quit;"
   ]
  },
  {
   "cell_type": "markdown",
   "metadata": {},
   "source": [
    "#### Labor Force Participation\n",
    "Now that we're in the coding spirit of things, let's also run the LFP analysis.  We can then share our deep thoughts on the entire analysis."
   ]
  },
  {
   "cell_type": "code",
   "execution_count": null,
   "metadata": {
    "tags": []
   },
   "outputs": [],
   "source": [
    "*-----------------------------------------------------------------------------------------*\n",
    "|\t\t    \t   \t\t\t\t\t\tLFP Rate Analysis\t\t\t\t  \t\t\t\t  | \n",
    "*-----------------------------------------------------------------------------------------*;\n",
    "\t  \n",
    "**********************************************  By Education Level;\n",
    "title3 h=1.75pct \"Labor Force Participation Rate Analysis | By Education Level\";\n",
    "proc sgpanel data=lfp;\n",
    "\twhere group in (\"Labor Force Participation Rate Rate\" \"EDUC <= HS\" \"Some College\" \"College +\");\n",
    "\tpanelby state_name / columns=3 rows=2 novarname ROWHEADERPOS=right ;\n",
    "\tseries y=lfp_Rate  x=Year \t\t/ group=group lineattrs=(thickness=2 pattern=solid);\n",
    "\tkeylegend / title=\"\" position=bottom;\n",
    "\tcolaxis fitpolicy=thin valuesformat=best5. ;\n",
    "run;\n",
    "quit;\n",
    "\n",
    "\n",
    "**********************************************   By Child Status;\n",
    "title3 h=1.75pct \"Labor Force Participation Rate Analysis | By Child Status\";\n",
    "proc sgpanel data=lfp;\n",
    "\twhere group in (\"Labor Force Participation Rate Rate\" \"No Children\" \"Young Children\" \"Older Children\");\n",
    "\tpanelby state_name / columns=3 rows=2 novarname ROWHEADERPOS=right ;\n",
    "\tseries y=lfp_Rate  x=Year \t\t/ group=group lineattrs=(thickness=2 pattern=solid);\n",
    "\tkeylegend / title=\"\" position=bottom;\n",
    "\tcolaxis fitpolicy=thin valuesformat=best5. ;\n",
    "run;\n",
    "quit;"
   ]
  },
  {
   "cell_type": "markdown",
   "metadata": {},
   "source": [
    "My deep thoughts: UE and LFP rates differ markedly across states and demographic groups. But nearly all trends appear to have reverted to their pre-COVID trends."
   ]
  },
  {
   "cell_type": "markdown",
   "metadata": {},
   "source": [
    "#### Part 2 Recap\n",
    "\n",
    "If the labor market has returned to pre-COVID conditions, there likely isn't a need to design programs to combat the effects of COVID.  Because the market already handled that. Now if there are other issues policymakers want to address, like making it easier for mothers with small children to enter the labor force, that's an entirely separate topic for another time.\n",
    "\n",
    "And what do you see - our new policymaker extraordinaire?  Do you agree?"
   ]
  }
 ],
 "metadata": {
  "kernelspec": {
   "display_name": "SAS",
   "language": "sas",
   "name": "sas"
  },
  "language_info": {
   "codemirror_mode": "sas",
   "file_extension": ".sas",
   "mimetype": "text/x-sas",
   "name": "sas"
  }
 },
 "nbformat": 4,
 "nbformat_minor": 4
}
